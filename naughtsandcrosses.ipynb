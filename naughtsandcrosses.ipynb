{
 "cells": [
  {
   "cell_type": "markdown",
   "metadata": {},
   "source": [
    "# Naughts and Crosses, the cooperative way"
   ]
  },
  {
   "cell_type": "code",
   "execution_count": 1,
   "metadata": {},
   "outputs": [],
   "source": [
    "from naughtsandcrosses import *\n",
    "from mcts import MCTS\n",
    "\n",
    "from IPython.display import clear_output\n",
    "from time import sleep"
   ]
  },
  {
   "cell_type": "markdown",
   "metadata": {},
   "source": [
    "## Sanity check"
   ]
  },
  {
   "cell_type": "markdown",
   "metadata": {},
   "source": [
    "It's probably a good idea to check if everything works as expected."
   ]
  },
  {
   "cell_type": "code",
   "execution_count": 2,
   "metadata": {},
   "outputs": [],
   "source": [
    "def play_one_game(s, p1, p2, show=True):\n",
    "    while not s.is_terminal():\n",
    "        if show:\n",
    "            print(s)\n",
    "\n",
    "        if s.currentPlayer == 1:\n",
    "            action = p1.search(initial_state=s)\n",
    "        else:\n",
    "            action = p2.search(initial_state=s)\n",
    "        s = s.take_action(action)\n",
    "\n",
    "        if show:\n",
    "            print(s)\n",
    "            sleep(3) # so that you have time to see what's happening\n",
    "            clear_output()\n",
    "    return s"
   ]
  },
  {
   "cell_type": "code",
   "execution_count": 3,
   "metadata": {},
   "outputs": [],
   "source": [
    "state = NaughtsAndCrossesState() # start with the 'X' player (i.e., 1)\n",
    "\n",
    "strong_searcher = MCTS(iteration_limit=1000)\n",
    "weak_searcher = MCTS(iteration_limit=1)\n",
    "\n",
    "play_one_game(state, strong_searcher, weak_searcher) # ok, looks good, but we can do better"
   ]
  },
  {
   "cell_type": "code",
   "execution_count": 4,
   "metadata": {},
   "outputs": [],
   "source": [
    "rewards = []\n",
    "for n in range(100):\n",
    "    state = NaughtsAndCrossesState() # start with the 'X' player (i.e., 1)\n",
    "\n",
    "    strong_searcher = MCTS(iteration_limit=1000)\n",
    "    weak_searcher = MCTS(iteration_limit=1)\n",
    "\n",
    "    # switch the players, just for diversity's sake!\n",
    "    final_state = play_one_game(state, weak_searcher, strong_searcher, show=False)\n",
    "    rewards.append(final_state.get_reward())"
   ]
  },
  {
   "cell_type": "code",
   "execution_count": 5,
   "metadata": {},
   "outputs": [
    {
     "data": {
      "text/plain": [
       "1.0"
      ]
     },
     "execution_count": 5,
     "metadata": {},
     "output_type": "execute_result"
    }
   ],
   "source": [
    "rewards.count(-1) / len(rewards) # very good! the strong searcher wins every time, as expected"
   ]
  },
  {
   "cell_type": "markdown",
   "metadata": {},
   "source": [
    "It's a good idea to test the cooperative reward, while we're at it..."
   ]
  },
  {
   "cell_type": "code",
   "execution_count": 11,
   "metadata": {},
   "outputs": [],
   "source": [
    "test_boards = [\n",
    "    [[1, -1, 1], [-1, 1, -1], [1, -1, 1]],  # Perfect chequered pattern\n",
    "    [[1, -1, 1], [-1, 1, 1], [1, -1, 1]],  # Incorrect pattern (two adjacent 1s)\n",
    "    [[1, -1, 1], [-1, 0, -1], [1, -1, 1]],  # Not fully filled\n",
    "    [[1, 1, 1], [-1, -1, -1], [1, 1, 1]],  # All rows same\n",
    "    [[1, -1, 1], [1, -1, 1], [1, -1, 1]],  # All columns same\n",
    "    [[-1, 1, -1], [1, -1, 1], [-1, 1, -1]], # Alternate starting symbol, chequered\n",
    "]"
   ]
  },
  {
   "cell_type": "code",
   "execution_count": 12,
   "metadata": {},
   "outputs": [
    {
     "name": "stdout",
     "output_type": "stream",
     "text": [
      "[(\n",
      "X | O | X\n",
      "O | X | O\n",
      "X | O | X\n",
      ", 1), (\n",
      "X | O | X\n",
      "O | X | X\n",
      "X | O | X\n",
      ", 0), (\n",
      "X | O | X\n",
      "O |   | O\n",
      "X | O | X\n",
      ", 0), (\n",
      "X | X | X\n",
      "O | O | O\n",
      "X | X | X\n",
      ", 0), (\n",
      "X | O | X\n",
      "X | O | X\n",
      "X | O | X\n",
      ", 0), (\n",
      "O | X | O\n",
      "X | O | X\n",
      "O | X | O\n",
      ", 1)]\n"
     ]
    }
   ],
   "source": [
    "instances = [NaughtsAndCrossesState() for _ in range(len(test_boards))]\n",
    "\n",
    "for b in range(len(test_boards)):\n",
    "    instances[b].board = test_boards[b]\n",
    "\n",
    "print(\n",
    "    [(instances[i], instances[i].get_reward_cooperative()) for i in range(len(test_boards))]\n",
    "    )"
   ]
  },
  {
   "cell_type": "markdown",
   "metadata": {},
   "source": [
    "Looks ok to me, now for the fun part."
   ]
  },
  {
   "cell_type": "markdown",
   "metadata": {},
   "source": [
    "## Cooperation "
   ]
  },
  {
   "cell_type": "code",
   "execution_count": null,
   "metadata": {},
   "outputs": [],
   "source": []
  }
 ],
 "metadata": {
  "kernelspec": {
   "display_name": "Python 3",
   "language": "python",
   "name": "python3"
  },
  "language_info": {
   "codemirror_mode": {
    "name": "ipython",
    "version": 3
   },
   "file_extension": ".py",
   "mimetype": "text/x-python",
   "name": "python",
   "nbconvert_exporter": "python",
   "pygments_lexer": "ipython3",
   "version": "3.11.6"
  }
 },
 "nbformat": 4,
 "nbformat_minor": 2
}
