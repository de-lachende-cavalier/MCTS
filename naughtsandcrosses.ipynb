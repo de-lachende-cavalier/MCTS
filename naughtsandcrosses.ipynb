{
 "cells": [
  {
   "cell_type": "markdown",
   "metadata": {},
   "source": [
    "# Naughts and Crosses, the cooperative way"
   ]
  },
  {
   "cell_type": "code",
   "execution_count": 1,
   "metadata": {},
   "outputs": [],
   "source": [
    "from naughtsandcrosses import *\n",
    "from naughtandcrosses_cooperative import *\n",
    "from mcts import MCTS\n",
    "\n",
    "from IPython.display import clear_output\n",
    "from time import sleep\n",
    "from copy import deepcopy\n",
    "import random"
   ]
  },
  {
   "cell_type": "code",
   "execution_count": 26,
   "metadata": {},
   "outputs": [],
   "source": [
    "def play_one_game(state, p1, p2, show=True):\n",
    "    s = deepcopy(state) # no side effects\n",
    "\n",
    "    while not s.is_terminal():\n",
    "        if show:\n",
    "            print(s)\n",
    "\n",
    "        action = p1.search(initial_state=s) if s.currentPlayer == 1 else p2.search(initial_state=s)\n",
    "        s = s.take_action(action)\n",
    "\n",
    "        if show:\n",
    "            sleep(3) # so that you have time to see what's happening\n",
    "            clear_output()\n",
    "\n",
    "    reward = s.get_reward()\n",
    "    if show:\n",
    "        print(s)\n",
    "        print(f\"Game Over.\\nReward: {reward}.\")\n",
    "\n",
    "    return s, int(reward)"
   ]
  },
  {
   "cell_type": "markdown",
   "metadata": {},
   "source": [
    "## Sanity checks"
   ]
  },
  {
   "cell_type": "markdown",
   "metadata": {},
   "source": [
    "It's probably a good idea to check if everything works as expected."
   ]
  },
  {
   "cell_type": "code",
   "execution_count": 27,
   "metadata": {},
   "outputs": [
    {
     "name": "stdout",
     "output_type": "stream",
     "text": [
      "\n",
      "O | O |  \n",
      "X | X | X\n",
      "  |   |  \n",
      "\n",
      "Game Over.\n",
      "Reward: 1.0.\n"
     ]
    }
   ],
   "source": [
    "state = NaughtsAndCrossesState() # start with the 'X' player (i.e., 1)\n",
    "\n",
    "strong_searcher = MCTS(iteration_limit=1000)\n",
    "weak_searcher = MCTS(iteration_limit=1)\n",
    "\n",
    "play_one_game(state, strong_searcher, weak_searcher); # ok, looks good, but we can do better"
   ]
  },
  {
   "cell_type": "code",
   "execution_count": 9,
   "metadata": {},
   "outputs": [],
   "source": [
    "rewards = []\n",
    "for n in range(100):\n",
    "    state = NaughtsAndCrossesState() # start with the 'X' player (i.e., 1)\n",
    "\n",
    "    strong_searcher = MCTS(iteration_limit=1000)\n",
    "    weak_searcher = MCTS(iteration_limit=1)\n",
    "\n",
    "    # switch the players, just for diversity's sake!\n",
    "    _, r = play_one_game(state, weak_searcher, strong_searcher, show=False)\n",
    "    rewards.append(r)"
   ]
  },
  {
   "cell_type": "code",
   "execution_count": 10,
   "metadata": {},
   "outputs": [
    {
     "data": {
      "text/plain": [
       "1.0"
      ]
     },
     "execution_count": 10,
     "metadata": {},
     "output_type": "execute_result"
    }
   ],
   "source": [
    "rewards.count(-1) / len(rewards) # very good! the strong searcher wins every time, as expected"
   ]
  },
  {
   "cell_type": "markdown",
   "metadata": {},
   "source": [
    "It's a good idea to test the cooperative reward, while we're at it..."
   ]
  },
  {
   "cell_type": "code",
   "execution_count": 4,
   "metadata": {},
   "outputs": [],
   "source": [
    "test_boards = [\n",
    "    [[1, -1, 1], [-1, 1, -1], [1, -1, 1]],  # Perfect chequered pattern\n",
    "    [[1, -1, 1], [-1, 1, 1], [1, -1, 1]],  # Incorrect pattern (two adjacent 1s)\n",
    "    [[1, -1, 1], [-1, 0, -1], [1, -1, 1]],  # Not fully filled\n",
    "    [[1, 1, 1], [-1, -1, -1], [1, 1, 1]],  # All rows same\n",
    "    [[1, -1, 1], [1, -1, 1], [1, -1, 1]],  # All columns same\n",
    "    [[-1, 1, -1], [1, -1, 1], [-1, 1, -1]], # Alternate starting symbol, chequered\n",
    "]"
   ]
  },
  {
   "cell_type": "code",
   "execution_count": 5,
   "metadata": {},
   "outputs": [
    {
     "name": "stdout",
     "output_type": "stream",
     "text": [
      "[(\n",
      "X | O | X\n",
      "O | X | O\n",
      "X | O | X\n",
      ", 1), (\n",
      "X | O | X\n",
      "O | X | X\n",
      "X | O | X\n",
      ", 0), (\n",
      "X | O | X\n",
      "O |   | O\n",
      "X | O | X\n",
      ", 0), (\n",
      "X | X | X\n",
      "O | O | O\n",
      "X | X | X\n",
      ", 0), (\n",
      "X | O | X\n",
      "X | O | X\n",
      "X | O | X\n",
      ", 0), (\n",
      "O | X | O\n",
      "X | O | X\n",
      "O | X | O\n",
      ", 1)]\n"
     ]
    }
   ],
   "source": [
    "instances = [NaughtsAndCrossesCoopState() for _ in range(len(test_boards))]\n",
    "\n",
    "for b in range(len(test_boards)):\n",
    "    instances[b].board = test_boards[b]\n",
    "\n",
    "print(\n",
    "    [(instances[i], instances[i].get_reward()) for i in range(len(test_boards))]\n",
    "    )"
   ]
  },
  {
   "cell_type": "markdown",
   "metadata": {},
   "source": [
    "Looks ok to me.\n",
    "\n",
    "Let's also check the terminating condition for the cooperative case."
   ]
  },
  {
   "cell_type": "code",
   "execution_count": 6,
   "metadata": {},
   "outputs": [],
   "source": [
    "test_boards = [\n",
    "    [[1, -1, 1], [-1, 1, -1], [1, -1, 1]],  # Full board, should be terminal\n",
    "    [[1, -1, 1], [-1, 0, -1], [1, -1, 1]],  # One empty cell, not terminal\n",
    "    [[1, -1, -1], [-1, 1, 0], [1, -1, 1]],  # One empty cell, should be terminal as it cannot maintain the pattern\n",
    "    [[0, 0, 0], [0, 0, 0], [0, 0, 0]],  # Empty board, not terminal\n",
    "    [[1, 1, -1], [-1, -1, 1], [1, 1, -1]]  # Impossible to maintain pattern, should be terminal\n",
    "]"
   ]
  },
  {
   "cell_type": "code",
   "execution_count": 21,
   "metadata": {},
   "outputs": [
    {
     "name": "stdout",
     "output_type": "stream",
     "text": [
      "[(\n",
      "X | O | X\n",
      "O | X | O\n",
      "X | O | X\n",
      ", True), (\n",
      "X | O | X\n",
      "O |   | O\n",
      "X | O | X\n",
      ", False), (\n",
      "X | O | O\n",
      "O | X |  \n",
      "X | O | X\n",
      ", True), (\n",
      "  |   |  \n",
      "  |   |  \n",
      "  |   |  \n",
      ", False), (\n",
      "X | X | O\n",
      "O | O | X\n",
      "X | X | O\n",
      ", True)]\n"
     ]
    }
   ],
   "source": [
    "instances = [NaughtsAndCrossesCoopState() for _ in range(len(test_boards))]\n",
    "\n",
    "for b in range(len(test_boards)):\n",
    "    instances[b].board = test_boards[b]\n",
    "\n",
    "print(\n",
    "    [(instances[i], instances[i].is_terminal()) for i in range(len(test_boards))]\n",
    "    )"
   ]
  },
  {
   "cell_type": "markdown",
   "metadata": {},
   "source": [
    "## Cooperation "
   ]
  },
  {
   "cell_type": "markdown",
   "metadata": {},
   "source": [
    "In theory, MCTS should work right away: the agents should both find out that cooperation is the only winning way, when expanding the tree!\n",
    "\n",
    "Let's see if that works..."
   ]
  },
  {
   "cell_type": "code",
   "execution_count": 45,
   "metadata": {},
   "outputs": [],
   "source": [
    "def starting_state(difficulty):\n",
    "    state = NaughtsAndCrossesCoopState()  # starts with 'X' player\n",
    "\n",
    "    if difficulty == 0:\n",
    "        board_one_move_away = [\n",
    "            [1, -1, 1],\n",
    "            [-1, 0, -1],\n",
    "            [1, -1, 1]  # needs naught\n",
    "        ]\n",
    "        state.board = board_one_move_away\n",
    "\n",
    "    if difficulty == 1:\n",
    "        board_two_moves_away = [\n",
    "            [1, -1, 1],\n",
    "            [-1, 0, -1], # needs cross\n",
    "            [1, 0, 1]  # needs naught\n",
    "        ]\n",
    "        state.board = board_two_moves_away\n",
    "\n",
    "    if difficulty == 2:\n",
    "        board_three_moves_away = [\n",
    "            [1, -1, 0],   # needs cross\n",
    "            [-1, 0, -1],  # needs cross\n",
    "            [1, 0, 1]    # needs naught\n",
    "        ]\n",
    "        state.board = board_three_moves_away\n",
    "\n",
    "    if difficulty == 10:\n",
    "        ipos = (random.randint(0, 2), random.randint(0, 2)) # choose position\n",
    "        imov = random.choice([-1, 1])  # choose between 'O' and 'X'\n",
    "        state.board[ipos[0]][ipos[1]] = imov\n",
    "\n",
    "    return state"
   ]
  },
  {
   "cell_type": "code",
   "execution_count": 46,
   "metadata": {},
   "outputs": [
    {
     "name": "stdout",
     "output_type": "stream",
     "text": [
      "\n",
      "X | O | X\n",
      "O | X | O\n",
      "X | O | X\n",
      "\n",
      "Game Over.\n",
      "Reward: 1.\n"
     ]
    }
   ],
   "source": [
    "weak_searcher = MCTS(iteration_limit=1000)\n",
    "\n",
    "play_one_game(starting_state(0), weak_searcher, weak_searcher);"
   ]
  },
  {
   "cell_type": "markdown",
   "metadata": {},
   "source": [
    "It fails rather spectacularly and quickly, even when we only have three missing pieces! This isn't particularly surprising, though: the reward is as sparse as it can get (+1 at the end, 0 throughout) so, each time, it needs to go through a whole MCTS roll-out, till the end, to decide where to place the naught/cross!\n",
    "\n",
    "What if we increase the iteration limit?"
   ]
  },
  {
   "cell_type": "code",
   "execution_count": 49,
   "metadata": {},
   "outputs": [
    {
     "name": "stdout",
     "output_type": "stream",
     "text": [
      "\n",
      "X | O | X\n",
      "O | X | O\n",
      "X | O | X\n",
      "\n",
      "Game Over.\n",
      "Reward: 1.\n"
     ]
    }
   ],
   "source": [
    "strong_searcher = MCTS(iteration_limit=1_000_000)\n",
    "\n",
    "play_one_game(starting_state(1), strong_searcher, strong_searcher);"
   ]
  },
  {
   "cell_type": "markdown",
   "metadata": {},
   "source": [
    "Something strange is happening: MCTS is taking much longer than necessary, considering how easy the problem is..."
   ]
  },
  {
   "cell_type": "code",
   "execution_count": null,
   "metadata": {},
   "outputs": [],
   "source": []
  }
 ],
 "metadata": {
  "kernelspec": {
   "display_name": "Python 3",
   "language": "python",
   "name": "python3"
  },
  "language_info": {
   "codemirror_mode": {
    "name": "ipython",
    "version": 3
   },
   "file_extension": ".py",
   "mimetype": "text/x-python",
   "name": "python",
   "nbconvert_exporter": "python",
   "pygments_lexer": "ipython3",
   "version": "3.11.6"
  }
 },
 "nbformat": 4,
 "nbformat_minor": 2
}
